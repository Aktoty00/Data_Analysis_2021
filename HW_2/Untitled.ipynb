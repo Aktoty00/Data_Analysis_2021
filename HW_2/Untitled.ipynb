{
 "cells": [
  {
   "cell_type": "code",
   "execution_count": 5,
   "id": "f8a51ace",
   "metadata": {},
   "outputs": [],
   "source": [
    "import os;\n",
    "PATH = './HW_2/'"
   ]
  },
  {
   "cell_type": "code",
   "execution_count": 2,
   "id": "335a0843",
   "metadata": {},
   "outputs": [],
   "source": [
    "for root,folders,files in os.walk(PATH):\n",
    "    print(files)"
   ]
  },
  {
   "cell_type": "code",
   "execution_count": 6,
   "id": "8a072d0c",
   "metadata": {},
   "outputs": [
    {
     "name": "stdout",
     "output_type": "stream",
     "text": [
      "<generator object _walk at 0x000001D055676F10>\n"
     ]
    }
   ],
   "source": [
    "print(os.walk(PATH))"
   ]
  },
  {
   "cell_type": "code",
   "execution_count": null,
   "id": "643b056c",
   "metadata": {},
   "outputs": [],
   "source": []
  }
 ],
 "metadata": {
  "kernelspec": {
   "display_name": "Python 3 (ipykernel)",
   "language": "python",
   "name": "python3"
  },
  "language_info": {
   "codemirror_mode": {
    "name": "ipython",
    "version": 3
   },
   "file_extension": ".py",
   "mimetype": "text/x-python",
   "name": "python",
   "nbconvert_exporter": "python",
   "pygments_lexer": "ipython3",
   "version": "3.10.2"
  }
 },
 "nbformat": 4,
 "nbformat_minor": 5
}
