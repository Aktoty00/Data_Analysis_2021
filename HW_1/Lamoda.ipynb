{
 "cells": [
  {
   "cell_type": "code",
   "execution_count": 1,
   "id": "0187d8ca",
   "metadata": {},
   "outputs": [],
   "source": [
    "import requests\n",
    "from bs4 import BeautifulSoup\n",
    "import math\n",
    "import json\n",
    "from tqdm import tqdm"
   ]
  },
  {
   "cell_type": "code",
   "execution_count": 2,
   "id": "dd411e1e",
   "metadata": {},
   "outputs": [],
   "source": [
    "SIZE = 60\n",
    "INIT_PAGE = 1\n",
    "CATEGORY = 'made_in_kz'\n",
    "BASE_URL = f\"https://www.lamoda.kz/a/29512/{CATEGORY}/?sitelink=topmenuW&l=10&page={INIT_PAGE}\""
   ]
  },
  {
   "cell_type": "code",
   "execution_count": 3,
   "id": "21389c77",
   "metadata": {},
   "outputs": [],
   "source": [
    "res = requests.get(BASE_URL)"
   ]
  },
  {
   "cell_type": "code",
   "execution_count": 4,
   "id": "259f3ce3",
   "metadata": {},
   "outputs": [],
   "source": [
    "soup = BeautifulSoup(res.content)\n",
    "amountOfRes = list(soup.findAll(\"span\", {\"class\": \"products-catalog__head-counter\"}))[0].text"
   ]
  },
  {
   "cell_type": "code",
   "execution_count": null,
   "id": "60c5516c",
   "metadata": {},
   "outputs": [],
   "source": []
  },
  {
   "cell_type": "code",
   "execution_count": 5,
   "id": "8363ca11",
   "metadata": {},
   "outputs": [],
   "source": [
    "def parse_page(soup):\n",
    "    dict_publ = dict()\n",
    "    links = soup.findAll(\"a\", {\"class\": \"products-list-item__link\"})\n",
    "    for link in links:\n",
    "        try:\n",
    "            featured_links = link['href'].split(\"/\");\n",
    "            if ('p' == featured_links[1]):\n",
    "                dict_publ[featured_links[2]] = link['href']\n",
    "        except:\n",
    "            pass\n",
    "    return dict_publ"
   ]
  },
  {
   "cell_type": "code",
   "execution_count": 6,
   "id": "3cca7ecc",
   "metadata": {},
   "outputs": [],
   "source": [
    "amount = int(amountOfRes.split(\" \")[0])\n",
    "pages_amount = math.ceil(amount/SIZE)"
   ]
  },
  {
   "cell_type": "code",
   "execution_count": 7,
   "id": "0d5c7796",
   "metadata": {},
   "outputs": [],
   "source": [
    "papers = parse_page(soup)\n",
    "# print(papers)"
   ]
  },
  {
   "cell_type": "code",
   "execution_count": 8,
   "id": "acdb435b",
   "metadata": {},
   "outputs": [],
   "source": [
    "for strt in range(1, pages_amount+1):\n",
    "    BASE_URL = f\"https://www.lamoda.kz/a/29512/{CATEGORY}/?sitelink=topmenuW&l=10&page={strt}\"\n",
    "    res = requests.get(BASE_URL)\n",
    "    if res.status_code == 200:\n",
    "        soup = BeautifulSoup(res.content)\n",
    "        buff = parse_page(soup)\n",
    "        papers.update(parse_page(soup))\n",
    "    else: \n",
    "        print(res.status_code, \" \" , BASE_URL);"
   ]
  },
  {
   "cell_type": "code",
   "execution_count": 9,
   "id": "ad9708b1",
   "metadata": {},
   "outputs": [],
   "source": [
    "with open(f\"{CATEGORY}.json\", \"w\") as fh:\n",
    "    json.dump(papers, fh, indent = 2)"
   ]
  },
  {
   "cell_type": "code",
   "execution_count": 10,
   "id": "17cfb3e7",
   "metadata": {},
   "outputs": [],
   "source": [
    "for paper in list(papers.items())[:1]:\n",
    "    paper_url = \"https://www.lamoda.kz\"+paper[1]\n",
    "    res = requests.get(paper_url)\n",
    "    soup = BeautifulSoup(res.content)"
   ]
  },
  {
   "cell_type": "code",
   "execution_count": 11,
   "id": "7c8ad648",
   "metadata": {},
   "outputs": [
    {
     "data": {
      "text/plain": [
       "'Блуза '"
      ]
     },
     "execution_count": 11,
     "metadata": {},
     "output_type": "execute_result"
    }
   ],
   "source": [
    "list(soup.select(\".product-title__model-name\"))[0].text"
   ]
  },
  {
   "cell_type": "code",
   "execution_count": 18,
   "id": "92a8335f",
   "metadata": {},
   "outputs": [
    {
     "data": {
      "text/plain": [
       "'Блуза Sana.moda Блуза '"
      ]
     },
     "execution_count": 18,
     "metadata": {},
     "output_type": "execute_result"
    }
   ],
   "source": [
    "list(soup.select(\".product-title__brand-name\"))[0].text"
   ]
  },
  {
   "cell_type": "code",
   "execution_count": 13,
   "id": "01d03e5d",
   "metadata": {},
   "outputs": [
    {
     "data": {
      "text/plain": [
       "'22 000 ₸'"
      ]
     },
     "execution_count": 13,
     "metadata": {},
     "output_type": "execute_result"
    }
   ],
   "source": [
    "list(soup.select(\"#vue-root div.product-prices span\"))[0].text"
   ]
  },
  {
   "cell_type": "code",
   "execution_count": 44,
   "id": "6c9d203e",
   "metadata": {},
   "outputs": [
    {
     "data": {
      "text/plain": [
       "466"
      ]
     },
     "execution_count": 44,
     "metadata": {},
     "output_type": "execute_result"
    }
   ],
   "source": [
    "len(papers)"
   ]
  },
  {
   "cell_type": "code",
   "execution_count": 53,
   "id": "99b5fca5",
   "metadata": {},
   "outputs": [],
   "source": [
    "def get_items_data():\n",
    "    data_dict = dict()\n",
    "    for paper in list(papers.items())[:200]:\n",
    "        paper_url = \"https://www.lamoda.kz\"+paper[1]\n",
    "        res = requests.get(paper_url)\n",
    "        soup = BeautifulSoup(res.content)\n",
    "        leftSide = list(soup.select(\".product-title__model-name\"))[0].text + list(soup.select(\".product-title__brand-name\"))[0].text\n",
    "        rightSide = list(soup.select(\"#vue-root div.product-prices span\"))[0].text\n",
    "        \n",
    "        data_dict[leftSide]= rightSide\n",
    "\n",
    "    return data_dict\n",
    "    "
   ]
  },
  {
   "cell_type": "code",
   "execution_count": 54,
   "id": "81f65b44",
   "metadata": {},
   "outputs": [],
   "source": [
    "items_info = get_items_data()"
   ]
  },
  {
   "cell_type": "code",
   "execution_count": 55,
   "id": "2b97346a",
   "metadata": {},
   "outputs": [
    {
     "name": "stdout",
     "output_type": "stream",
     "text": [
      "115\n"
     ]
    }
   ],
   "source": [
    "print(len(items_info))"
   ]
  },
  {
   "cell_type": "code",
   "execution_count": 56,
   "id": "62c2a944",
   "metadata": {},
   "outputs": [],
   "source": [
    "with open(f\"{CATEGORY}_items_info.json\", \"w\", encoding='utf-8') as fh:\n",
    "    json.dump(items_info, fh, indent = 2, ensure_ascii=False)"
   ]
  },
  {
   "cell_type": "code",
   "execution_count": null,
   "id": "21719684",
   "metadata": {},
   "outputs": [],
   "source": []
  }
 ],
 "metadata": {
  "kernelspec": {
   "display_name": "Python 3 (ipykernel)",
   "language": "python",
   "name": "python3"
  },
  "language_info": {
   "codemirror_mode": {
    "name": "ipython",
    "version": 3
   },
   "file_extension": ".py",
   "mimetype": "text/x-python",
   "name": "python",
   "nbconvert_exporter": "python",
   "pygments_lexer": "ipython3",
   "version": "3.10.2"
  }
 },
 "nbformat": 4,
 "nbformat_minor": 5
}
